{
 "cells": [
  {
   "cell_type": "code",
   "execution_count": 2,
   "metadata": {},
   "outputs": [
    {
     "name": "stdout",
     "output_type": "stream",
     "text": [
      "C:\\Users\\Stijn Daemen\\Documents\\master thesis TU Delft\\code\\IAM_RICE2\\jupyter notebooks\n"
     ]
    }
   ],
   "source": [
    "import os\n",
    "print(os.getcwd())"
   ]
  },
  {
   "cell_type": "code",
   "execution_count": 12,
   "metadata": {},
   "outputs": [],
   "source": [
    "import numpy as np\n",
    "np.random.seed(42)"
   ]
  },
  {
   "cell_type": "code",
   "execution_count": 1,
   "metadata": {},
   "outputs": [],
   "source": [
    "def dominates(a, b):\n",
    "    # assumes minimization\n",
    "    # a dominates b if it is <= in all objectives and < in at least one\n",
    "    # Note SD: somehow the logic with np.all() breaks down if there are positive and negative numbers in the array\n",
    "    # So to circumvent this but still allow multiobjective optimisation in different directions under the\n",
    "    # constraint that every number is positive, just add a large number to every index.\n",
    "    large_number = 1000000000\n",
    "\n",
    "    a = np.array(a)\n",
    "    a = a + large_number\n",
    "\n",
    "    b = np.array(b)\n",
    "    b = b + large_number\n",
    "    # print(f'a: {a}')\n",
    "    # print(f'b: {b}')\n",
    "    return (np.all(a <= b) and np.any(a < b))"
   ]
  },
  {
   "cell_type": "code",
   "execution_count": 17,
   "metadata": {},
   "outputs": [],
   "source": [
    "def create_individual():\n",
    "    return list(np.random.randint(-10, 10, size=3))"
   ]
  },
  {
   "cell_type": "code",
   "execution_count": 20,
   "metadata": {},
   "outputs": [],
   "source": [
    "non_dominated = []\n",
    "family = []"
   ]
  },
  {
   "cell_type": "code",
   "execution_count": 21,
   "metadata": {},
   "outputs": [],
   "source": [
    "for _ in range(10):\n",
    "    family.append(create_individual())"
   ]
  },
  {
   "cell_type": "code",
   "execution_count": 22,
   "metadata": {},
   "outputs": [
    {
     "data": {
      "text/plain": [
       "[[-9, 1, -5],\n",
       " [-9, -10, 1],\n",
       " [1, 6, -1],\n",
       " [5, 4, 4],\n",
       " [8, 1, 9],\n",
       " [-8, -6, 8],\n",
       " [-4, -2, -4],\n",
       " [7, -7, 3],\n",
       " [7, -2, -9],\n",
       " [9, 4, -4]]"
      ]
     },
     "execution_count": 22,
     "metadata": {},
     "output_type": "execute_result"
    }
   ],
   "source": [
    "family"
   ]
  },
  {
   "cell_type": "code",
   "execution_count": 30,
   "metadata": {},
   "outputs": [],
   "source": [
    "non_dominated = [family[4]]"
   ]
  },
  {
   "cell_type": "code",
   "execution_count": 31,
   "metadata": {},
   "outputs": [
    {
     "data": {
      "text/plain": [
       "[[8, 1, 9]]"
      ]
     },
     "execution_count": 31,
     "metadata": {},
     "output_type": "execute_result"
    }
   ],
   "source": [
    "non_dominated"
   ]
  },
  {
   "cell_type": "code",
   "execution_count": 34,
   "metadata": {},
   "outputs": [
    {
     "name": "stdout",
     "output_type": "stream",
     "text": [
      "[-9, 1, -5]\n",
      "[8, 1, 9]\n"
     ]
    },
    {
     "ename": "TypeError",
     "evalue": "'list' object cannot be interpreted as an integer",
     "output_type": "error",
     "traceback": [
      "\u001b[1;31m---------------------------------------------------------------------------\u001b[0m",
      "\u001b[1;31mTypeError\u001b[0m                                 Traceback (most recent call last)",
      "\u001b[1;32m<ipython-input-34-a94d7d4bcf0f>\u001b[0m in \u001b[0;36m<module>\u001b[1;34m\u001b[0m\n\u001b[0;32m      4\u001b[0m         \u001b[0mprint\u001b[0m\u001b[1;33m(\u001b[0m\u001b[0msolution\u001b[0m\u001b[1;33m)\u001b[0m\u001b[1;33m\u001b[0m\u001b[1;33m\u001b[0m\u001b[0m\n\u001b[0;32m      5\u001b[0m         \u001b[1;32mif\u001b[0m \u001b[0mdominates\u001b[0m\u001b[1;33m(\u001b[0m\u001b[0mcandidate\u001b[0m\u001b[1;33m,\u001b[0m \u001b[0msolution\u001b[0m\u001b[1;33m)\u001b[0m\u001b[1;33m:\u001b[0m\u001b[1;33m\u001b[0m\u001b[1;33m\u001b[0m\u001b[0m\n\u001b[1;32m----> 6\u001b[1;33m             \u001b[0mnon_dominated\u001b[0m\u001b[1;33m.\u001b[0m\u001b[0mpop\u001b[0m\u001b[1;33m(\u001b[0m\u001b[0msolution\u001b[0m\u001b[1;33m)\u001b[0m\u001b[1;33m\u001b[0m\u001b[1;33m\u001b[0m\u001b[0m\n\u001b[0m\u001b[0;32m      7\u001b[0m             \u001b[0mnon_dominated\u001b[0m\u001b[1;33m.\u001b[0m\u001b[0mappend\u001b[0m\u001b[1;33m(\u001b[0m\u001b[0mcandidate\u001b[0m\u001b[1;33m)\u001b[0m\u001b[1;33m\u001b[0m\u001b[1;33m\u001b[0m\u001b[0m\n",
      "\u001b[1;31mTypeError\u001b[0m: 'list' object cannot be interpreted as an integer"
     ]
    }
   ],
   "source": [
    "for candidate in family:\n",
    "    print(candidate)\n",
    "    for solution in non_dominated:\n",
    "        print(solution)\n",
    "        if dominates(candidate, solution):\n",
    "            print('candidiate dominates solution')\n",
    "            non_dominated.pop(solution)\n",
    "            non_dominated.append(candidate)"
   ]
  },
  {
   "cell_type": "code",
   "execution_count": 61,
   "metadata": {},
   "outputs": [
    {
     "name": "stdout",
     "output_type": "stream",
     "text": [
      "[[-1, -8, -2], [2, 7, 4], [-7, 4, -9], [4, -3, -3], [6, 1, 8], [-1, -2, -6], [-5, 9, -9], [2, -5, -6], [-10, -5, -5], [5, -7, 0]]\n",
      "[ True  True  True  True  True  True  True  True  True  True]\n",
      "[ True False  True False False  True False  True  True False]\n",
      "[[ -1  -8  -2]\n",
      " [ -7   4  -9]\n",
      " [ -1  -2  -6]\n",
      " [  2  -5  -6]\n",
      " [-10  -5  -5]]\n"
     ]
    }
   ],
   "source": [
    "overall_ledger = []\n",
    "non_dominated = []\n",
    "family = []\n",
    "\n",
    "for _ in range(10):\n",
    "    family.append(create_individual())\n",
    "    \n",
    "overall_ledger.append(family)\n",
    "\n",
    "A = np.array(family)\n",
    "N = len(family)\n",
    "print(family)\n",
    "keep = np.ones(N, dtype=bool)\n",
    "print(keep)\n",
    "\n",
    "for i in range(N):\n",
    "    for j in range(i+1, N):\n",
    "        if keep[j] and dominates(A[i], A[j]):\n",
    "            keep[j] = False\n",
    "\n",
    "        elif keep[i] and dominates(A[j], A[i]):\n",
    "            keep[i] = False\n",
    "print(keep)\n",
    "non_dominated = list(A[keep])\n",
    "\n"
   ]
  },
  {
   "cell_type": "code",
   "execution_count": 95,
   "metadata": {},
   "outputs": [
    {
     "data": {
      "text/plain": [
       "1"
      ]
     },
     "execution_count": 95,
     "metadata": {},
     "output_type": "execute_result"
    }
   ],
   "source": [
    "np.random.randint(1,4)"
   ]
  },
  {
   "cell_type": "code",
   "execution_count": 108,
   "metadata": {},
   "outputs": [
    {
     "data": {
      "text/plain": [
       "array([5, 1, 9])"
      ]
     },
     "execution_count": 108,
     "metadata": {},
     "output_type": "execute_result"
    }
   ],
   "source": [
    "np.random.choice([1, 2, 3, 4, 5, 6, 7, 8, 9], 3, replace=False)"
   ]
  },
  {
   "cell_type": "code",
   "execution_count": 57,
   "metadata": {},
   "outputs": [],
   "source": [
    "def archive_sort(self, A, fA, P, fP):\n",
    "    # print(f'A before: {A}')\n",
    "    # print(f'P : {P}')\n",
    "    A = np.hstack((A, P))\n",
    "    # print(f'A after: {A}')\n",
    "\n",
    "    \n",
    "    # print(f'fA before: {fA}')\n",
    "    # print(f'fP : {fP}')\n",
    "    fA = np.vstack((fA, fP))\n",
    "    # print(f'fA after: {fA}')\n",
    "    N = len(A)\n",
    "    keep = np.ones(N, dtype=bool)\n",
    "    # print(f'keep before: {keep}')\n",
    "    for i in range(N):\n",
    "        for j in range(i + 1, N):\n",
    "            if keep[j] and self.dominates(fA[i, :], fA[j, :]):\n",
    "                keep[j] = False\n",
    "\n",
    "            elif keep[i] and self.dominates(fA[j, :], fA[i, :]):\n",
    "                keep[i] = False\n",
    "\n",
    "            elif self.same_box(fA[i, :], fA[j, :]):\n",
    "                keep[np.random.choice([i, j])] = False\n",
    "    # print(f'keep after: {keep}')\n",
    "    # print(f'A[keep]: {A[keep]}')\n",
    "    return (A[keep], fA[keep, :])"
   ]
  },
  {
   "cell_type": "code",
   "execution_count": null,
   "metadata": {},
   "outputs": [],
   "source": []
  },
  {
   "cell_type": "code",
   "execution_count": null,
   "metadata": {},
   "outputs": [],
   "source": []
  },
  {
   "cell_type": "code",
   "execution_count": null,
   "metadata": {},
   "outputs": [],
   "source": [
    "# find indices of solutions that dominate others\n",
    "def pareto_front_finding(fitness_values, pop_index):\n",
    "    pop_size = fitness_values.shape[0]\n",
    "    pareto_front = np.ones(pop_size, dtype=bool)    # all True initially\n",
    "    for i in range(pop_size):\n",
    "        for j in range(pop_size):\n",
    "            if all(fitness_values[j] <= fitness_values[i]) and any(fitness_values[j] < fitness_values[i]):\n",
    "                pareto_front[i] = 0 # i is not in pareto front becouse j dominates i\n",
    "                break\n",
    "\n",
    "    return pop_index[pareto_front]  # arr(len_pareto_front,)\n",
    "\n",
    "# repeat Pareto front selection to build a population within defined size limits\n",
    "def selection(pop, fitness_values, pop_size):\n",
    "    \n",
    "    pop_index_0 = np.arange(pop.shape[0])   # unselected pop ids\n",
    "    pop_index = np.arange(pop.shape[0])     # all pop ids. len = len(pop_size)\n",
    "    pareto_front_index = []\n",
    "    \n",
    "    while len(pareto_front_index) < pop_size:   # pop_size = initial_pop_size\n",
    "        new_pareto_front = pareto_front_finding(fitness_values[pop_index_0, :], pop_index_0)\n",
    "        total_pareto_size = len(pareto_front_index) + len(new_pareto_front)\n",
    "\n",
    "        # check the size of pareto_front, if larger than pop_size then remove some\n",
    "        if total_pareto_size > pop_size:\n",
    "            number_solutions_needed = pop_size - len(pareto_front_index)\n",
    "            selected_solutions = remove_using_crowding(fitness_values[new_pareto_front], number_solutions_needed)\n",
    "            new_pareto_front = new_pareto_front[selected_solutions]\n",
    "        \n",
    "        pareto_front_index = np.hstack((pareto_front_index, new_pareto_front))\n",
    "        remaining_index = set(pop_index) - set(pareto_front_index)\n",
    "        pop_index_0 = np.array(list(remaining_index))\n",
    "        \n",
    "    selected_pop = pop[pareto_front_index.astype(int)]\n",
    "\n",
    "    return selected_pop     # arr(pop_size x n_var)"
   ]
  },
  {
   "cell_type": "code",
   "execution_count": null,
   "metadata": {},
   "outputs": [],
   "source": []
  },
  {
   "cell_type": "code",
   "execution_count": null,
   "metadata": {},
   "outputs": [],
   "source": []
  },
  {
   "cell_type": "code",
   "execution_count": null,
   "metadata": {},
   "outputs": [],
   "source": []
  },
  {
   "cell_type": "markdown",
   "metadata": {},
   "source": [
    "Test to see difference any() and all() for establishing archive_sort() in old POT algo"
   ]
  },
  {
   "cell_type": "code",
   "execution_count": 3,
   "metadata": {},
   "outputs": [],
   "source": [
    "import numpy as np"
   ]
  },
  {
   "cell_type": "code",
   "execution_count": 25,
   "metadata": {},
   "outputs": [],
   "source": [
    "# a = [1, 2, 3]\n",
    "# b = [4, 5, 6]\n",
    "\n",
    "a = [2, 2, 5]\n",
    "b = [4, 5, 6]"
   ]
  },
  {
   "cell_type": "code",
   "execution_count": 26,
   "metadata": {},
   "outputs": [
    {
     "name": "stdout",
     "output_type": "stream",
     "text": [
      "True\n",
      "True\n"
     ]
    }
   ],
   "source": [
    "print(np.any(a < b))\n",
    "print(np.all(a <= b))"
   ]
  },
  {
   "cell_type": "code",
   "execution_count": 41,
   "metadata": {},
   "outputs": [],
   "source": [
    "c = [2, 3, 6]\n",
    "d = [2, 6, 7]"
   ]
  },
  {
   "cell_type": "code",
   "execution_count": 43,
   "metadata": {},
   "outputs": [
    {
     "name": "stdout",
     "output_type": "stream",
     "text": [
      "True\n"
     ]
    }
   ],
   "source": [
    "print(np.any(c < d))\n",
    "# print(np.all(c <= d))"
   ]
  },
  {
   "cell_type": "code",
   "execution_count": 56,
   "metadata": {},
   "outputs": [
    {
     "data": {
      "text/plain": [
       "False"
      ]
     },
     "execution_count": 56,
     "metadata": {},
     "output_type": "execute_result"
    }
   ],
   "source": [
    "e = [4, 2]\n",
    "f = [3, 3]\n",
    "np.any(e < f)"
   ]
  },
  {
   "cell_type": "code",
   "execution_count": 57,
   "metadata": {},
   "outputs": [
    {
     "data": {
      "text/plain": [
       "False"
      ]
     },
     "execution_count": 57,
     "metadata": {},
     "output_type": "execute_result"
    }
   ],
   "source": [
    "np.any(e < f)"
   ]
  },
  {
   "cell_type": "code",
   "execution_count": 10,
   "metadata": {},
   "outputs": [],
   "source": [
    "a = [2, 2, 7]\n",
    "b = [4, 5, 8]"
   ]
  },
  {
   "cell_type": "code",
   "execution_count": 9,
   "metadata": {},
   "outputs": [
    {
     "data": {
      "text/plain": [
       "False"
      ]
     },
     "execution_count": 9,
     "metadata": {},
     "output_type": "execute_result"
    }
   ],
   "source": [
    "np.all(a <= b)"
   ]
  },
  {
   "cell_type": "code",
   "execution_count": 15,
   "metadata": {},
   "outputs": [],
   "source": [
    "c = [-42407.86632176343, -11951122.864490815, 3.910692983823753]\n",
    "d = [-42356.93698573813, -5972792.737317861, 3.873526079827485]"
   ]
  },
  {
   "cell_type": "code",
   "execution_count": 16,
   "metadata": {},
   "outputs": [
    {
     "data": {
      "text/plain": [
       "True"
      ]
     },
     "execution_count": 16,
     "metadata": {},
     "output_type": "execute_result"
    }
   ],
   "source": [
    "np.all(c <= d)"
   ]
  },
  {
   "cell_type": "markdown",
   "metadata": {},
   "source": [
    "The e and f example shows the solution to the problem, just add a really large number"
   ]
  },
  {
   "cell_type": "code",
   "execution_count": 50,
   "metadata": {},
   "outputs": [],
   "source": [
    "e = [-3, -4, 7]\n",
    "f = [-1, -2, 5]"
   ]
  },
  {
   "cell_type": "code",
   "execution_count": 51,
   "metadata": {},
   "outputs": [
    {
     "data": {
      "text/plain": [
       "True"
      ]
     },
     "execution_count": 51,
     "metadata": {},
     "output_type": "execute_result"
    }
   ],
   "source": [
    "np.all(e <= f)"
   ]
  },
  {
   "cell_type": "code",
   "execution_count": 52,
   "metadata": {},
   "outputs": [],
   "source": [
    "large_number = 1000000000"
   ]
  },
  {
   "cell_type": "code",
   "execution_count": 53,
   "metadata": {},
   "outputs": [],
   "source": [
    "e = np.array(e)\n",
    "e = e + large_number"
   ]
  },
  {
   "cell_type": "code",
   "execution_count": 54,
   "metadata": {},
   "outputs": [],
   "source": [
    "f = np.array(f)\n",
    "f = f + large_number"
   ]
  },
  {
   "cell_type": "code",
   "execution_count": 55,
   "metadata": {},
   "outputs": [
    {
     "name": "stdout",
     "output_type": "stream",
     "text": [
      "[ 999999997  999999996 1000000007]\n",
      "[ 999999999  999999998 1000000005]\n"
     ]
    }
   ],
   "source": [
    "print(e)\n",
    "print(f)"
   ]
  },
  {
   "cell_type": "code",
   "execution_count": 56,
   "metadata": {},
   "outputs": [
    {
     "data": {
      "text/plain": [
       "False"
      ]
     },
     "execution_count": 56,
     "metadata": {},
     "output_type": "execute_result"
    }
   ],
   "source": [
    "np.all(e <= f)"
   ]
  },
  {
   "cell_type": "code",
   "execution_count": null,
   "metadata": {},
   "outputs": [],
   "source": []
  },
  {
   "cell_type": "code",
   "execution_count": 2,
   "metadata": {},
   "outputs": [],
   "source": [
    "import numpy as np"
   ]
  },
  {
   "cell_type": "code",
   "execution_count": 5,
   "metadata": {},
   "outputs": [],
   "source": [
    "s = np.random.uniform(-1,0,5)"
   ]
  },
  {
   "cell_type": "code",
   "execution_count": 6,
   "metadata": {},
   "outputs": [
    {
     "data": {
      "text/plain": [
       "array([-0.88797985, -0.16817014, -0.28348788, -0.15930286, -0.40909251])"
      ]
     },
     "execution_count": 6,
     "metadata": {},
     "output_type": "execute_result"
    }
   ],
   "source": [
    "s"
   ]
  },
  {
   "cell_type": "code",
   "execution_count": null,
   "metadata": {},
   "outputs": [],
   "source": []
  },
  {
   "cell_type": "code",
   "execution_count": null,
   "metadata": {},
   "outputs": [],
   "source": []
  },
  {
   "cell_type": "code",
   "execution_count": null,
   "metadata": {},
   "outputs": [],
   "source": []
  },
  {
   "cell_type": "code",
   "execution_count": 57,
   "metadata": {},
   "outputs": [],
   "source": [
    "import itertools"
   ]
  },
  {
   "cell_type": "code",
   "execution_count": 59,
   "metadata": {},
   "outputs": [
    {
     "data": {
      "text/plain": [
       "<itertools.combinations at 0x1ea7a9e4a48>"
      ]
     },
     "execution_count": 59,
     "metadata": {},
     "output_type": "execute_result"
    }
   ],
   "source": [
    "itertools.combinations(a, 2)"
   ]
  },
  {
   "cell_type": "code",
   "execution_count": 70,
   "metadata": {},
   "outputs": [
    {
     "name": "stdout",
     "output_type": "stream",
     "text": [
      "[1, 2, 3, 4, 5, 6, 7, 8, 9]\n",
      "(1, 2)\n",
      "(1, 3)\n",
      "(1, 4)\n",
      "(2, 1)\n",
      "(2, 3)\n",
      "(2, 4)\n",
      "(3, 1)\n",
      "(3, 2)\n",
      "(3, 4)\n",
      "(4, 1)\n",
      "(4, 2)\n",
      "(4, 3)\n"
     ]
    }
   ],
   "source": [
    "# stuff = [1, 2, 3]\n",
    "# for L in range(len(stuff) + 1):\n",
    "#     for subset in itertools.combinations(stuff, L):\n",
    "#         print(subset)\n",
    "g = [1,2,3,4,5,6,7,8,9]\n",
    "h = [1,2,3,4]\n",
    "print(g)\n",
    "for subset in itertools.permutations(h, 2):\n",
    "        print(subset)"
   ]
  },
  {
   "cell_type": "code",
   "execution_count": 99,
   "metadata": {},
   "outputs": [],
   "source": [
    "non_dominated = [1, 2, 3, 4, 5]"
   ]
  },
  {
   "cell_type": "code",
   "execution_count": 100,
   "metadata": {},
   "outputs": [],
   "source": [
    "P = np.random.choice(non_dominated, 2, replace=False)"
   ]
  },
  {
   "cell_type": "code",
   "execution_count": 101,
   "metadata": {},
   "outputs": [
    {
     "data": {
      "text/plain": [
       "[1, 4, 5]"
      ]
     },
     "execution_count": 101,
     "metadata": {},
     "output_type": "execute_result"
    }
   ],
   "source": [
    "[i for i in non_dominated if i not in P]"
   ]
  },
  {
   "cell_type": "code",
   "execution_count": 120,
   "metadata": {},
   "outputs": [],
   "source": [
    "ab = [1, 2]"
   ]
  },
  {
   "cell_type": "code",
   "execution_count": 121,
   "metadata": {},
   "outputs": [],
   "source": [
    "ac = [1, 3, 5]"
   ]
  },
  {
   "cell_type": "code",
   "execution_count": 122,
   "metadata": {},
   "outputs": [],
   "source": [
    "ac.extend(ab)"
   ]
  },
  {
   "cell_type": "code",
   "execution_count": 123,
   "metadata": {},
   "outputs": [
    {
     "data": {
      "text/plain": [
       "[1, 3, 5, 1, 2]"
      ]
     },
     "execution_count": 123,
     "metadata": {},
     "output_type": "execute_result"
    }
   ],
   "source": [
    "ac"
   ]
  },
  {
   "cell_type": "code",
   "execution_count": 125,
   "metadata": {},
   "outputs": [
    {
     "name": "stdout",
     "output_type": "stream",
     "text": [
      "empty\n"
     ]
    }
   ],
   "source": [
    "non = []\n",
    "if not non:\n",
    "    print('empty')"
   ]
  },
  {
   "cell_type": "code",
   "execution_count": 144,
   "metadata": {},
   "outputs": [],
   "source": [
    "d_dict = {}\n",
    "d_dict[0] = {'a': [1, 2, 3],\n",
    "            'b': [6, 2, 3],\n",
    "            'c': [9, 0, 3],}\n",
    "d_dict[1] = {'d': [7, 4, 8],\n",
    "            'e': [5, 0, 8],\n",
    "            'f': [2, 3, 7],}"
   ]
  },
  {
   "cell_type": "code",
   "execution_count": 129,
   "metadata": {},
   "outputs": [],
   "source": [
    "import pandas as pd"
   ]
  },
  {
   "cell_type": "code",
   "execution_count": 139,
   "metadata": {},
   "outputs": [
    {
     "data": {
      "text/plain": [
       "2"
      ]
     },
     "execution_count": 139,
     "metadata": {},
     "output_type": "execute_result"
    }
   ],
   "source": [
    "len(d_dict.keys())"
   ]
  },
  {
   "cell_type": "code",
   "execution_count": 156,
   "metadata": {},
   "outputs": [
    {
     "name": "stdout",
     "output_type": "stream",
     "text": [
      "   ofv1  ofv2  ofv3 policy  generation\n",
      "a     1     2     3      a           0\n",
      "b     6     2     3      b           0\n",
      "c     9     0     3      c           0\n",
      "   ofv1  ofv2  ofv3 policy  generation\n",
      "d     7     4     8      d           1\n",
      "e     5     0     8      e           1\n",
      "f     2     3     7      f           1\n"
     ]
    }
   ],
   "source": [
    "dfs = []\n",
    "for i in range(len(d_dict.keys())):\n",
    "    df = pd.DataFrame.from_dict(d_dict[i], orient='index', columns=['ofv1', 'ofv2', 'ofv3'])\n",
    "    df['policy'] = df.index\n",
    "    df['generation'] = i\n",
    "    print(df.head())\n",
    "    dfs.append(df)\n",
    "df = pd.concat(dfs)\n",
    "df.reset_index(drop=True, inplace=True)"
   ]
  },
  {
   "cell_type": "code",
   "execution_count": 157,
   "metadata": {},
   "outputs": [],
   "source": [
    "df_tot = pd.concat(dfs)\n",
    "df_tot.reset_index(drop=True, inplace=True)"
   ]
  },
  {
   "cell_type": "code",
   "execution_count": 158,
   "metadata": {},
   "outputs": [
    {
     "data": {
      "text/html": [
       "<div>\n",
       "<style scoped>\n",
       "    .dataframe tbody tr th:only-of-type {\n",
       "        vertical-align: middle;\n",
       "    }\n",
       "\n",
       "    .dataframe tbody tr th {\n",
       "        vertical-align: top;\n",
       "    }\n",
       "\n",
       "    .dataframe thead th {\n",
       "        text-align: right;\n",
       "    }\n",
       "</style>\n",
       "<table border=\"1\" class=\"dataframe\">\n",
       "  <thead>\n",
       "    <tr style=\"text-align: right;\">\n",
       "      <th></th>\n",
       "      <th>ofv1</th>\n",
       "      <th>ofv2</th>\n",
       "      <th>ofv3</th>\n",
       "      <th>policy</th>\n",
       "      <th>generation</th>\n",
       "    </tr>\n",
       "  </thead>\n",
       "  <tbody>\n",
       "    <tr>\n",
       "      <th>0</th>\n",
       "      <td>1</td>\n",
       "      <td>2</td>\n",
       "      <td>3</td>\n",
       "      <td>a</td>\n",
       "      <td>0</td>\n",
       "    </tr>\n",
       "    <tr>\n",
       "      <th>1</th>\n",
       "      <td>6</td>\n",
       "      <td>2</td>\n",
       "      <td>3</td>\n",
       "      <td>b</td>\n",
       "      <td>0</td>\n",
       "    </tr>\n",
       "    <tr>\n",
       "      <th>2</th>\n",
       "      <td>9</td>\n",
       "      <td>0</td>\n",
       "      <td>3</td>\n",
       "      <td>c</td>\n",
       "      <td>0</td>\n",
       "    </tr>\n",
       "    <tr>\n",
       "      <th>3</th>\n",
       "      <td>7</td>\n",
       "      <td>4</td>\n",
       "      <td>8</td>\n",
       "      <td>d</td>\n",
       "      <td>1</td>\n",
       "    </tr>\n",
       "    <tr>\n",
       "      <th>4</th>\n",
       "      <td>5</td>\n",
       "      <td>0</td>\n",
       "      <td>8</td>\n",
       "      <td>e</td>\n",
       "      <td>1</td>\n",
       "    </tr>\n",
       "    <tr>\n",
       "      <th>5</th>\n",
       "      <td>2</td>\n",
       "      <td>3</td>\n",
       "      <td>7</td>\n",
       "      <td>f</td>\n",
       "      <td>1</td>\n",
       "    </tr>\n",
       "  </tbody>\n",
       "</table>\n",
       "</div>"
      ],
      "text/plain": [
       "   ofv1  ofv2  ofv3 policy  generation\n",
       "0     1     2     3      a           0\n",
       "1     6     2     3      b           0\n",
       "2     9     0     3      c           0\n",
       "3     7     4     8      d           1\n",
       "4     5     0     8      e           1\n",
       "5     2     3     7      f           1"
      ]
     },
     "execution_count": 158,
     "metadata": {},
     "output_type": "execute_result"
    }
   ],
   "source": [
    "df_tot"
   ]
  },
  {
   "cell_type": "code",
   "execution_count": 137,
   "metadata": {},
   "outputs": [
    {
     "ename": "ValueError",
     "evalue": "only recognize index or columns for orient",
     "output_type": "error",
     "traceback": [
      "\u001b[1;31m---------------------------------------------------------------------------\u001b[0m",
      "\u001b[1;31mValueError\u001b[0m                                Traceback (most recent call last)",
      "\u001b[1;32m<ipython-input-137-80574be2970d>\u001b[0m in \u001b[0;36m<module>\u001b[1;34m\u001b[0m\n\u001b[1;32m----> 1\u001b[1;33m \u001b[0mdf\u001b[0m \u001b[1;33m=\u001b[0m \u001b[0mpd\u001b[0m\u001b[1;33m.\u001b[0m\u001b[0mDataFrame\u001b[0m\u001b[1;33m.\u001b[0m\u001b[0mfrom_dict\u001b[0m\u001b[1;33m(\u001b[0m\u001b[0md_dict\u001b[0m\u001b[1;33m,\u001b[0m \u001b[0morient\u001b[0m\u001b[1;33m=\u001b[0m\u001b[1;34m'tight'\u001b[0m\u001b[1;33m)\u001b[0m\u001b[1;33m\u001b[0m\u001b[1;33m\u001b[0m\u001b[0m\n\u001b[0m",
      "\u001b[1;32m~\\miniconda3\\envs\\gds\\lib\\site-packages\\pandas\\core\\frame.py\u001b[0m in \u001b[0;36mfrom_dict\u001b[1;34m(cls, data, orient, dtype, columns)\u001b[0m\n\u001b[0;32m   1305\u001b[0m                 \u001b[1;32mraise\u001b[0m \u001b[0mValueError\u001b[0m\u001b[1;33m(\u001b[0m\u001b[1;34m\"cannot use columns parameter with orient='columns'\"\u001b[0m\u001b[1;33m)\u001b[0m\u001b[1;33m\u001b[0m\u001b[1;33m\u001b[0m\u001b[0m\n\u001b[0;32m   1306\u001b[0m         \u001b[1;32melse\u001b[0m\u001b[1;33m:\u001b[0m  \u001b[1;31m# pragma: no cover\u001b[0m\u001b[1;33m\u001b[0m\u001b[1;33m\u001b[0m\u001b[0m\n\u001b[1;32m-> 1307\u001b[1;33m             \u001b[1;32mraise\u001b[0m \u001b[0mValueError\u001b[0m\u001b[1;33m(\u001b[0m\u001b[1;34m\"only recognize index or columns for orient\"\u001b[0m\u001b[1;33m)\u001b[0m\u001b[1;33m\u001b[0m\u001b[1;33m\u001b[0m\u001b[0m\n\u001b[0m\u001b[0;32m   1308\u001b[0m \u001b[1;33m\u001b[0m\u001b[0m\n\u001b[0;32m   1309\u001b[0m         \u001b[1;32mreturn\u001b[0m \u001b[0mcls\u001b[0m\u001b[1;33m(\u001b[0m\u001b[0mdata\u001b[0m\u001b[1;33m,\u001b[0m \u001b[0mindex\u001b[0m\u001b[1;33m=\u001b[0m\u001b[0mindex\u001b[0m\u001b[1;33m,\u001b[0m \u001b[0mcolumns\u001b[0m\u001b[1;33m=\u001b[0m\u001b[0mcolumns\u001b[0m\u001b[1;33m,\u001b[0m \u001b[0mdtype\u001b[0m\u001b[1;33m=\u001b[0m\u001b[0mdtype\u001b[0m\u001b[1;33m)\u001b[0m\u001b[1;33m\u001b[0m\u001b[1;33m\u001b[0m\u001b[0m\n",
      "\u001b[1;31mValueError\u001b[0m: only recognize index or columns for orient"
     ]
    }
   ],
   "source": [
    "df = pd.DataFrame.from_dict(d_dict, orient='tight')"
   ]
  },
  {
   "cell_type": "code",
   "execution_count": 136,
   "metadata": {},
   "outputs": [
    {
     "data": {
      "text/html": [
       "<div>\n",
       "<style scoped>\n",
       "    .dataframe tbody tr th:only-of-type {\n",
       "        vertical-align: middle;\n",
       "    }\n",
       "\n",
       "    .dataframe tbody tr th {\n",
       "        vertical-align: top;\n",
       "    }\n",
       "\n",
       "    .dataframe thead th {\n",
       "        text-align: right;\n",
       "    }\n",
       "</style>\n",
       "<table border=\"1\" class=\"dataframe\">\n",
       "  <thead>\n",
       "    <tr style=\"text-align: right;\">\n",
       "      <th></th>\n",
       "      <th>0</th>\n",
       "      <th>1</th>\n",
       "    </tr>\n",
       "  </thead>\n",
       "  <tbody>\n",
       "    <tr>\n",
       "      <th>a</th>\n",
       "      <td>[1, 2, 3]</td>\n",
       "      <td>NaN</td>\n",
       "    </tr>\n",
       "    <tr>\n",
       "      <th>b</th>\n",
       "      <td>[6, 2, 3]</td>\n",
       "      <td>NaN</td>\n",
       "    </tr>\n",
       "    <tr>\n",
       "      <th>c</th>\n",
       "      <td>[9, 0, 3]</td>\n",
       "      <td>NaN</td>\n",
       "    </tr>\n",
       "    <tr>\n",
       "      <th>d</th>\n",
       "      <td>NaN</td>\n",
       "      <td>[7, 4, 8]</td>\n",
       "    </tr>\n",
       "    <tr>\n",
       "      <th>e</th>\n",
       "      <td>NaN</td>\n",
       "      <td>[5, 0, 8]</td>\n",
       "    </tr>\n",
       "    <tr>\n",
       "      <th>f</th>\n",
       "      <td>NaN</td>\n",
       "      <td>[2, 3, 7]</td>\n",
       "    </tr>\n",
       "  </tbody>\n",
       "</table>\n",
       "</div>"
      ],
      "text/plain": [
       "           0          1\n",
       "a  [1, 2, 3]        NaN\n",
       "b  [6, 2, 3]        NaN\n",
       "c  [9, 0, 3]        NaN\n",
       "d        NaN  [7, 4, 8]\n",
       "e        NaN  [5, 0, 8]\n",
       "f        NaN  [2, 3, 7]"
      ]
     },
     "execution_count": 136,
     "metadata": {},
     "output_type": "execute_result"
    }
   ],
   "source": [
    "df"
   ]
  },
  {
   "cell_type": "code",
   "execution_count": null,
   "metadata": {},
   "outputs": [],
   "source": []
  },
  {
   "cell_type": "code",
   "execution_count": null,
   "metadata": {},
   "outputs": [],
   "source": []
  },
  {
   "cell_type": "code",
   "execution_count": 59,
   "metadata": {},
   "outputs": [],
   "source": [
    "A = [1, 2, 3, 4, 5]"
   ]
  },
  {
   "cell_type": "code",
   "execution_count": 60,
   "metadata": {},
   "outputs": [],
   "source": [
    "keep = [True, True, False, False, True]"
   ]
  },
  {
   "cell_type": "code",
   "execution_count": 61,
   "metadata": {},
   "outputs": [
    {
     "ename": "TypeError",
     "evalue": "list indices must be integers or slices, not list",
     "output_type": "error",
     "traceback": [
      "\u001b[1;31m---------------------------------------------------------------------------\u001b[0m",
      "\u001b[1;31mTypeError\u001b[0m                                 Traceback (most recent call last)",
      "\u001b[1;32m<ipython-input-61-74039a150147>\u001b[0m in \u001b[0;36m<module>\u001b[1;34m\u001b[0m\n\u001b[1;32m----> 1\u001b[1;33m \u001b[0mA\u001b[0m\u001b[1;33m[\u001b[0m\u001b[0mkeep\u001b[0m\u001b[1;33m]\u001b[0m\u001b[1;33m\u001b[0m\u001b[1;33m\u001b[0m\u001b[0m\n\u001b[0m",
      "\u001b[1;31mTypeError\u001b[0m: list indices must be integers or slices, not list"
     ]
    }
   ],
   "source": [
    "A[keep]"
   ]
  },
  {
   "cell_type": "markdown",
   "metadata": {},
   "source": [
    "Run RICE with Nordhaus policy in Basic scenario"
   ]
  },
  {
   "cell_type": "code",
   "execution_count": 23,
   "metadata": {},
   "outputs": [
    {
     "name": "stdout",
     "output_type": "stream",
     "text": [
      "-42456.671297561035 -5976340.535159354 3.9574968783133793\n"
     ]
    }
   ],
   "source": [
    "from RICE_model.IAM_RICE import RICE\n",
    "\n",
    "years_10 = []\n",
    "for i in range(2005, 2315, 10):\n",
    "    years_10.append(i)\n",
    "\n",
    "regions = [\n",
    "    \"US\",\n",
    "    \"OECD-Europe\",\n",
    "    \"Japan\",\n",
    "    \"Russia\",\n",
    "    \"Non-Russia Eurasia\",\n",
    "    \"China\",\n",
    "    \"India\",\n",
    "    \"Middle East\",\n",
    "    \"Africa\",\n",
    "    \"Latin America\",\n",
    "    \"OHI\",\n",
    "    \"Other non-OECD Asia\",\n",
    "]\n",
    "\n",
    "levers = {'mu_target': 2135,\n",
    "              'sr': 0.248,\n",
    "              'irstp': 0.015}\n",
    "\n",
    "m1, m2, m3 = RICE(years_10, regions, levers=levers).DMDU_control()\n",
    "print(m1, m2, m3)"
   ]
  },
  {
   "cell_type": "code",
   "execution_count": null,
   "metadata": {},
   "outputs": [],
   "source": []
  },
  {
   "cell_type": "markdown",
   "metadata": {},
   "source": [
    "Try out platypus-opt library with NSGAII"
   ]
  },
  {
   "cell_type": "code",
   "execution_count": 5,
   "metadata": {},
   "outputs": [],
   "source": [
    "from platypus.algorithms import NSGAIII\n",
    "from platypus.problems import DTLZ2"
   ]
  },
  {
   "cell_type": "code",
   "execution_count": 6,
   "metadata": {},
   "outputs": [],
   "source": [
    "problem = DTLZ2(3)"
   ]
  },
  {
   "cell_type": "code",
   "execution_count": 7,
   "metadata": {},
   "outputs": [],
   "source": [
    "algorithm = NSGAIII(problem, divisions_outer=12)\n",
    "algorithm.run(10000)"
   ]
  },
  {
   "cell_type": "code",
   "execution_count": 10,
   "metadata": {},
   "outputs": [
    {
     "name": "stdout",
     "output_type": "stream",
     "text": [
      " Obj1\t Obj2\t Obj3\n",
      "0.211\t0.103\t0.974\n",
      "0.544\t0.798\t0.273\n",
      "0.493\t0.117\t0.866\n",
      "0.821\t0.409\t0.419\n",
      "0.902\t0.448\t0.000\n"
     ]
    }
   ],
   "source": [
    "print(\" Obj1\\t Obj2\\t Obj3\")\n",
    "\n",
    "for solution in algorithm.result[:5]:\n",
    "    print(\"%0.3f\\t%0.3f\\t%0.3f\" % tuple(solution.objectives))"
   ]
  },
  {
   "cell_type": "code",
   "execution_count": 14,
   "metadata": {},
   "outputs": [
    {
     "data": {
      "image/png": "[encoded data removed]",
      "text/plain": [
       "<Figure size 432x288 with 1 Axes>"
      ]
     },
     "metadata": {
      "needs_background": "light"
     },
     "output_type": "display_data"
    }
   ],
   "source": [
    "%matplotlib inline\n",
    "import matplotlib.pyplot as plt\n",
    "from mpl_toolkits.mplot3d import Axes3D\n",
    "\n",
    "fig = plt.figure()\n",
    "ax = fig.add_subplot(111, projection='3d')\n",
    "ax.scatter([s.objectives[0] for s in algorithm.result],\n",
    "           [s.objectives[1] for s in algorithm.result],\n",
    "           [s.objectives[2] for s in algorithm.result])\n",
    "ax.set_xlabel(\"$f_1(x)$\")\n",
    "ax.set_ylabel(\"$f_2(x)$\")\n",
    "ax.set_zlabel(\"$f_3(x)$\")\n",
    "ax.set_xlim([0, 1.1])\n",
    "ax.set_ylim([0, 1.1])\n",
    "ax.set_zlim([0, 1.1])\n",
    "ax.view_init(elev=30.0, azim=15)\n",
    "plt.show()"
   ]
  },
  {
   "cell_type": "markdown",
   "metadata": {},
   "source": [
    "Try out the borg algorithm on test problem"
   ]
  },
  {
   "cell_type": "code",
   "execution_count": 1,
   "metadata": {},
   "outputs": [
    {
     "name": "stdout",
     "output_type": "stream",
     "text": [
      "[0.7592942946184186, 0.0011772321267498871, 0.6524675234022671]\n",
      "[4.019864944420776e-17, 0.656493765748551, 0.7558646792617912]\n",
      "[0.011678968024498585, 0.7633093882795199, 0.6466424189555376]\n",
      "[0.25374250754993294, 0.3678922659953662, 0.8954053500713732]\n",
      "[0.6931399410779977, 0.17850081695231193, 0.6990286121952984]\n",
      "[0.6894493419318276, 0.5608778375335889, 0.4597870636662546]\n",
      "[0.5990939020890073, 0.7976291830986861, 0.07819852395737728]\n",
      "[0.8967101679149709, 0.4447257503054449, 0.0]\n",
      "[0.27735055917300827, 0.699527896272958, 0.6820638818734532]\n",
      "[0.7990210654034181, 0.5709792862883722, 0.19181184876851357]\n",
      "[0.7948791475999499, 0.48927479269116064, 0.36292995211309875]\n",
      "[0.007039903052383026, 0.457674802864672, 0.8905085089061662]\n",
      "[0.5660931773124888, 0.43796299964329966, 0.6990064765543469]\n",
      "[0.9995617766126055, 0.0039541113286232854, 0.04682548019011943]\n",
      "[0.5937428497082902, 0.11729106297732304, 0.7964062181118502]\n",
      "[0.5809852696236244, 0.5789560387917847, 0.5726634502465829]\n",
      "[0.4522223173070817, 0.8927038126632171, 0.0034975321155999353]\n",
      "[0.36717552867571157, 0.4827154885712885, 0.7957415504528581]\n",
      "[0.5696950773611178, 0.6887253443672231, 0.44979599428716605]\n",
      "[0.3565747145311792, 0.26158575913986415, 0.8987598127997986]\n",
      "[0.891395225265645, 0.004939449825824881, 0.453424703974084]\n",
      "[0.8961428947845779, 0.22283061621417757, 0.38497340498329025]\n",
      "[0.6789688779203655, 0.453175257532691, 0.5789447604623522]\n",
      "[0.029736555454930848, 0.9981559804762344, 0.06832957435627804]\n",
      "[0.06420839289709364, 0.0014154944596953944, 0.9982451803923887]\n",
      "[0.39270383510805434, 0.5982385821297501, 0.698892276613263]\n",
      "[0.48171141988233784, 0.36631462369357903, 0.796461263122055]\n",
      "[0.12535443721120135, 0.7929740832913565, 0.5971719435868932]\n",
      "[0.6940416797984931, 0.6958561363568281, 0.18746370341947965]\n",
      "[0.7960231056368181, 0.11427824248633271, 0.5963723711987676]\n",
      "[5.465057186743951e-17, 0.8925115699561599, 0.4524747242164271]\n",
      "[0.15857088917695147, 0.5833263420993551, 0.7970780102001345]\n",
      "[0.35791659526986025, 0.8990515269349572, 0.25738665011540707]\n",
      "[0.3631317044173938, 0.7927464072494296, 0.4899798274027248]\n",
      "[0.3976214743483293, 0.6960659140143699, 0.5983827577468089]\n",
      "[0.7604381618114666, 0.6501664359329652, 0.010467259977509467]\n",
      "[0.4467538990771817, 0.0009207195352709923, 0.8950912878936595]\n",
      "[0.646496748497526, 0.0035824044837247243, 0.7635716250248146]\n"
     ]
    }
   ],
   "source": [
    "# Copyright 2012-2014 The Pennsylvania State University\n",
    "# Copyright 2020 Cornell University\n",
    "#\n",
    "# This software was written by Andrew Dircks, Dave Hadka, and others.\n",
    "#\n",
    "# The use, modification and distribution of this software is governed by the\n",
    "# The Pennsylvania State University Research and Educational Use License.\n",
    "# You should have received a copy of this license along with this program.\n",
    "# If not, contact <info@borgmoea.org>.\n",
    "\n",
    "'''\n",
    "\n",
    "Solve the DTLZ2 test problem with PyBorg and visualize the results.\n",
    "\n",
    "'''\n",
    "\n",
    "from platypus import DTLZ2\n",
    "from pyborg import BorgMOEA\n",
    "\n",
    "\n",
    "if __name__ == \"__main__\":\n",
    "\n",
    "    # define a DTLZ2 problem instance from the Platypus library\n",
    "    nobjs = 3\n",
    "    problem = DTLZ2(nobjs)\n",
    "\n",
    "    # define and run the Borg algorithm for 10000 evaluations\n",
    "    algorithm = BorgMOEA(problem, epsilons=0.1)\n",
    "    algorithm.run(10000)\n",
    "\n",
    "    # print the results\n",
    "    for solution in algorithm.result:\n",
    "        print(solution.objectives)"
   ]
  },
  {
   "cell_type": "code",
   "execution_count": 3,
   "metadata": {},
   "outputs": [
    {
     "data": {
      "image/png": "[encoded data removed]",
      "text/plain": [
       "<Figure size 432x288 with 1 Axes>"
      ]
     },
     "metadata": {
      "needs_background": "light"
     },
     "output_type": "display_data"
    }
   ],
   "source": [
    "%matplotlib inline\n",
    "import matplotlib.pyplot as plt\n",
    "from mpl_toolkits.mplot3d import Axes3D\n",
    "\n",
    "fig = plt.figure()\n",
    "ax = fig.add_subplot(111, projection='3d')\n",
    "ax.scatter([s.objectives[0] for s in algorithm.result],\n",
    "           [s.objectives[1] for s in algorithm.result],\n",
    "           [s.objectives[2] for s in algorithm.result])\n",
    "ax.set_xlabel(\"$f_1(x)$\")\n",
    "ax.set_ylabel(\"$f_2(x)$\")\n",
    "ax.set_zlabel(\"$f_3(x)$\")\n",
    "ax.set_xlim([0, 1.1])\n",
    "ax.set_ylim([0, 1.1])\n",
    "ax.set_zlim([0, 1.1])\n",
    "ax.view_init(elev=30.0, azim=15)\n",
    "plt.show()"
   ]
  },
  {
   "cell_type": "markdown",
   "metadata": {},
   "source": [
    "Create a random tree and then apply it to RICE"
   ]
  },
  {
   "cell_type": "code",
   "execution_count": 1,
   "metadata": {},
   "outputs": [],
   "source": [
    "from POT.optimization import PolicyTreeOptimizer\n",
    "from POT.tree import PTree\n",
    "import numpy as np\n",
    "\n",
    "def random_tree(terminal_ratio=0.5,\n",
    "               max_depth=4,\n",
    "               discrete_actions=True,\n",
    "               action_names=['miu_2100', 'miu_2150', 'miu_2200', 'miu_2125', 'sr_02', 'sr_03', 'sr_04', 'sr_05'],\n",
    "#                action_bounds=[[0,10], [5, 20]],\n",
    "               num_features=3,\n",
    "               feature_names=['mat', 'net_output', 'year'],\n",
    "               feature_bounds=[[780, 1300], [55, 2300], [2005, 2305]],\n",
    "               discrete_features=None\n",
    "               ):\n",
    "    '''\n",
    "\n",
    "    Parameters\n",
    "    ----------\n",
    "    terminal_ration : float, optional\n",
    "\n",
    "    '''\n",
    "\n",
    "    depth = np.random.randint(1, max_depth + 1)\n",
    "    L = []\n",
    "    S = [0]\n",
    "\n",
    "    while S:\n",
    "        current_depth = S.pop()\n",
    "\n",
    "        # action node\n",
    "        if current_depth == depth or (current_depth > 0 and \\\n",
    "                                      np.random.rand() < terminal_ratio):\n",
    "            if discrete_actions:\n",
    "                L.append([str(np.random.choice(action_names))])\n",
    "            else:\n",
    "                L.append([np.random.uniform(*action_bounds)])\n",
    "\n",
    "        else:\n",
    "            x = np.random.choice(num_features)\n",
    "            v = np.random.uniform(*feature_bounds[x])\n",
    "            L.append([x, v])\n",
    "            S += [current_depth + 1] * 2\n",
    "\n",
    "    T = PTree(L, feature_names, discrete_features)\n",
    "    T.prune()\n",
    "    return T\n",
    "\n",
    "T = random_tree()\n",
    "\n",
    "# from pyborg import BorgMOEA\n",
    "\n",
    "\n",
    "# if __name__ == \"__main__\":\n",
    "\n",
    "#     # define a DTLZ2 problem instance from the Platypus library\n",
    "#     nobjs = 3\n",
    "#     problem = Problem(2,2)\n",
    "#     problem.types[:] = [String(), String()]\n",
    "\n",
    "#     # define and run the Borg algorithm for 10000 evaluations\n",
    "#     algorithm = BorgMOEA(problem, epsilons=0.1)\n",
    "#     algorithm.run(10000)\n",
    "\n",
    "#     # print the results\n",
    "#     for solution in algorithm.result:\n",
    "#         print(solution.objectives)"
   ]
  },
  {
   "cell_type": "code",
   "execution_count": 2,
   "metadata": {},
   "outputs": [
    {
     "data": {
      "text/plain": [
       "<POT.tree.PTree at 0x1777c27a808>"
      ]
     },
     "execution_count": 2,
     "metadata": {},
     "output_type": "execute_result"
    }
   ],
   "source": [
    "T"
   ]
  },
  {
   "cell_type": "code",
   "execution_count": 6,
   "metadata": {},
   "outputs": [],
   "source": [
    "from RICE_model.IAM_RICE import RICE\n",
    "\n",
    "years_10 = []\n",
    "for i in range(2005, 2315, 10):\n",
    "    years_10.append(i)\n",
    "\n",
    "regions = [\n",
    "    \"US\",\n",
    "    \"OECD-Europe\",\n",
    "    \"Japan\",\n",
    "    \"Russia\",\n",
    "    \"Non-Russia Eurasia\",\n",
    "    \"China\",\n",
    "    \"India\",\n",
    "    \"Middle East\",\n",
    "    \"Africa\",\n",
    "    \"Latin America\",\n",
    "    \"OHI\",\n",
    "    \"Other non-OECD Asia\",\n",
    "]"
   ]
  },
  {
   "cell_type": "code",
   "execution_count": 7,
   "metadata": {},
   "outputs": [
    {
     "data": {
      "text/plain": [
       "(-42467.03734894892, -5976708.234413775, 3.973075674325643)"
      ]
     },
     "execution_count": 7,
     "metadata": {},
     "output_type": "execute_result"
    }
   ],
   "source": [
    "RICE(years_10, regions).POT_control(T)"
   ]
  },
  {
   "cell_type": "markdown",
   "metadata": {},
   "source": [
    "Now integrate into 1 function"
   ]
  },
  {
   "cell_type": "code",
   "execution_count": 9,
   "metadata": {},
   "outputs": [],
   "source": [
    "from POT.optimization import PolicyTreeOptimizer\n",
    "from POT.tree import PTree\n",
    "import numpy as np\n",
    "\n",
    "from RICE_model.IAM_RICE import RICE\n",
    "\n",
    "years_10 = []\n",
    "for i in range(2005, 2315, 10):\n",
    "    years_10.append(i)\n",
    "\n",
    "regions = [\n",
    "    \"US\",\n",
    "    \"OECD-Europe\",\n",
    "    \"Japan\",\n",
    "    \"Russia\",\n",
    "    \"Non-Russia Eurasia\",\n",
    "    \"China\",\n",
    "    \"India\",\n",
    "    \"Middle East\",\n",
    "    \"Africa\",\n",
    "    \"Latin America\",\n",
    "    \"OHI\",\n",
    "    \"Other non-OECD Asia\",\n",
    "]\n",
    "\n",
    "model = RICE(years_10, regions)\n",
    "\n",
    "def POT_OPT(terminal_ratio=0.5,\n",
    "               max_depth=4,\n",
    "               discrete_actions=True,\n",
    "               action_names=['miu_2100', 'miu_2150', 'miu_2200', 'miu_2125', 'sr_02', 'sr_03', 'sr_04', 'sr_05'],\n",
    "#                action_bounds=[[0,10], [5, 20]],\n",
    "               num_features=3,\n",
    "               feature_names=['mat', 'net_output', 'year'],\n",
    "               feature_bounds=[[780, 1300], [55, 2300], [2005, 2305]],\n",
    "               discrete_features=None\n",
    "               ):\n",
    "    '''\n",
    "\n",
    "    Parameters\n",
    "    ----------\n",
    "    terminal_ration : float, optional\n",
    "\n",
    "    '''\n",
    "\n",
    "    depth = np.random.randint(1, max_depth + 1)\n",
    "    L = []\n",
    "    S = [0]\n",
    "\n",
    "    while S:\n",
    "        current_depth = S.pop()\n",
    "\n",
    "        # action node\n",
    "        if current_depth == depth or (current_depth > 0 and \\\n",
    "                                      np.random.rand() < terminal_ratio):\n",
    "            if discrete_actions:\n",
    "                L.append([str(np.random.choice(action_names))])\n",
    "            else:\n",
    "                L.append([np.random.uniform(*action_bounds)])\n",
    "\n",
    "        else:\n",
    "            x = np.random.choice(num_features)\n",
    "            v = np.random.uniform(*feature_bounds[x])\n",
    "            L.append([x, v])\n",
    "            S += [current_depth + 1] * 2\n",
    "\n",
    "    T = PTree(L, feature_names, discrete_features)\n",
    "    T.prune()\n",
    "    \n",
    "    m1, m2, m3 = model.POT_control(T)\n",
    "    return m1, m2, m3\n",
    "\n",
    "m1, m2, m3 = POT_OPT()"
   ]
  },
  {
   "cell_type": "code",
   "execution_count": 12,
   "metadata": {},
   "outputs": [
    {
     "data": {
      "text/plain": [
       "4.141479028627507"
      ]
     },
     "execution_count": 12,
     "metadata": {},
     "output_type": "execute_result"
    }
   ],
   "source": [
    "m3"
   ]
  },
  {
   "cell_type": "markdown",
   "metadata": {},
   "source": [
    "Now change function so that it can be taken as input for Borg in the platypus-opt lib"
   ]
  },
  {
   "cell_type": "code",
   "execution_count": 21,
   "metadata": {},
   "outputs": [
    {
     "name": "stdout",
     "output_type": "stream",
     "text": [
      "[-42501.01206080477, -143179071051.17148, 4.024753868426908]\n",
      "[-42457.8877931768, -218017430847.1841, 3.8974160507690834]\n",
      "[-42499.81004429868, -249992198946.26392, 4.026755508223575]\n",
      "[-42499.770223981104, -273808337962.01166, 4.026755508223575]\n",
      "[-42457.55974387654, -276958094776.6829, 3.8974160507690834]\n",
      "[-42499.26062237246, -279565289376.2022, 4.026755508223575]\n",
      "[-42496.55043632131, -280400408936.0725, 3.99823258179653]\n",
      "[-42498.71318228535, -284289939725.8695, 4.026755508223575]\n",
      "[-42496.83522998518, -293538224583.0767, 4.061411713639997]\n",
      "[-42491.68108554619, -296986506220.11945, 3.99823258179653]\n",
      "[-42456.70122118388, -297308981454.69684, 3.8993401985058362]\n",
      "[-42448.80400244774, -297464102706.2211, 3.895677948479156]\n",
      "[-42426.49556267954, -297553549294.61285, 3.895677948479156]\n",
      "[-42490.275448488224, -297631226997.1131, 3.997335285204946]\n",
      "[-42490.19207724266, -297684949250.1238, 3.997335285204946]\n",
      "[-42423.76551075439, -297708854480.19666, 3.895677948479156]\n",
      "[-42484.78976862292, -298102478730.40686, 3.964194978877905]\n",
      "[-42412.64423479503, -298180130521.23987, 3.895677948479156]\n",
      "[-42498.30172665828, -298221856219.5493, 4.141483304702572]\n",
      "[-42483.965872003166, -298239760022.9669, 3.964194978877905]\n",
      "[-42400.60856235141, -298245738087.2359, 3.895677948479156]\n",
      "[-42475.36845685582, -298251718827.7606, 4.024192462855429]\n",
      "[-42373.40539600082, -298257694739.84485, 3.9109170468903285]\n",
      "[-42329.81598965562, -298275499888.7347, 3.9382273979528115]\n",
      "[-42229.06232841884, -298281467531.7926, 3.9373638436905565]\n",
      "[-41771.39238148815, -298287412043.76434, 3.9360835295177523]\n",
      "[-42385.00641589413, -298293388398.3856, 4.026755508223575]\n"
     ]
    }
   ],
   "source": [
    "from POT.optimization import PolicyTreeOptimizer\n",
    "from POT.tree import PTree\n",
    "import numpy as np\n",
    "\n",
    "from RICE_model.IAM_RICE import RICE\n",
    "\n",
    "from platypus import NSGAII, Problem, Real\n",
    "from pyborg import BorgMOEA\n",
    "\n",
    "years_10 = []\n",
    "for i in range(2005, 2315, 10):\n",
    "    years_10.append(i)\n",
    "\n",
    "regions = [\n",
    "    \"US\",\n",
    "    \"OECD-Europe\",\n",
    "    \"Japan\",\n",
    "    \"Russia\",\n",
    "    \"Non-Russia Eurasia\",\n",
    "    \"China\",\n",
    "    \"India\",\n",
    "    \"Middle East\",\n",
    "    \"Africa\",\n",
    "    \"Latin America\",\n",
    "    \"OHI\",\n",
    "    \"Other non-OECD Asia\",\n",
    "]\n",
    "\n",
    "model = RICE(years_10, regions)\n",
    "# np.random.seed(10)\n",
    "\n",
    "action_names=['miu_2100', 'miu_2150', 'miu_2200', 'miu_2125', 'sr_02', 'sr_03', 'sr_04', 'sr_05']\n",
    "feature_names=['mat', 'net_output', 'year']\n",
    "feature_bounds=[[780, 1300], [55, 2300], [2005, 2305]]\n",
    "\n",
    "def random_tree(terminal_ratio=0.5,\n",
    "               max_depth=4,\n",
    "               discrete_actions=True,\n",
    "               action_names=action_names,\n",
    "#                action_bounds=[[0,10], [5, 20]],\n",
    "               feature_names=feature_names,\n",
    "               feature_bounds=feature_bounds,\n",
    "               discrete_features=None,\n",
    "               model=model\n",
    "               ):\n",
    "    '''\n",
    "\n",
    "    Parameters\n",
    "    ----------\n",
    "    terminal_ration : float, optional\n",
    "\n",
    "    '''\n",
    "    \n",
    "    num_features = len(feature_names)\n",
    "\n",
    "    depth = np.random.randint(1, max_depth + 1)\n",
    "    L = []\n",
    "    S = [0]\n",
    "\n",
    "    while S:\n",
    "        current_depth = S.pop()\n",
    "\n",
    "        # action node\n",
    "        if current_depth == depth or (current_depth > 0 and \\\n",
    "                                      np.random.rand() < terminal_ratio):\n",
    "            if discrete_actions:\n",
    "                L.append([str(np.random.choice(action_names))])\n",
    "            else:\n",
    "                L.append([np.random.uniform(*action_bounds)])\n",
    "\n",
    "        else:\n",
    "            x = np.random.choice(num_features)\n",
    "            v = np.random.uniform(*feature_bounds[x])\n",
    "            L.append([x, v])\n",
    "            S += [current_depth + 1] * 2\n",
    "\n",
    "    T = PTree(L, feature_names, discrete_features)\n",
    "    T.prune()\n",
    "    \n",
    "    \n",
    "    m1, m2, m3 = model.POT_control(T)\n",
    "    return m1, m2, m3\n",
    "\n",
    "# m1, m2, m3 = random_tree()\n",
    "# print(m1, m2, m3)\n",
    "\n",
    "def borg_problem(x):\n",
    "    m1, m2, m3 = random_tree()\n",
    "    return m1, m2, m3\n",
    "\n",
    "problem = Problem(1, 3)\n",
    "problem.types[:] = Real(-10, 10)\n",
    "problem.function = borg_problem\n",
    "\n",
    "# define and run the Borg algorithm for 10000 evaluations\n",
    "algorithm = BorgMOEA(problem, epsilons=0.1)\n",
    "algorithm.run(50000)\n",
    "\n",
    "# print the results\n",
    "for solution in algorithm.result:\n",
    "    print(solution.objectives)\n"
   ]
  },
  {
   "cell_type": "code",
   "execution_count": 22,
   "metadata": {},
   "outputs": [
    {
     "data": {
      "image/png": "[encoded data removed]",
      "text/plain": [
       "<Figure size 432x288 with 1 Axes>"
      ]
     },
     "metadata": {
      "needs_background": "light"
     },
     "output_type": "display_data"
    }
   ],
   "source": [
    "%matplotlib inline\n",
    "import matplotlib.pyplot as plt\n",
    "from mpl_toolkits.mplot3d import Axes3D\n",
    "\n",
    "fig = plt.figure()\n",
    "ax = fig.add_subplot(111, projection='3d')\n",
    "ax.scatter([s.objectives[0] for s in algorithm.result],\n",
    "           [s.objectives[1] for s in algorithm.result],\n",
    "           [s.objectives[2] for s in algorithm.result])\n",
    "ax.set_xlabel(\"$f_1(x)$\")\n",
    "ax.set_ylabel(\"$f_2(x)$\")\n",
    "ax.set_zlabel(\"$f_3(x)$\")\n",
    "# ax.set_xlim([-43000, -42000])\n",
    "# ax.set_ylim([-10000000, -1000000])\n",
    "# ax.set_zlim([2, 6])\n",
    "ax.view_init(elev=30.0, azim=15)\n",
    "plt.show()"
   ]
  },
  {
   "cell_type": "code",
   "execution_count": 20,
   "metadata": {},
   "outputs": [
    {
     "data": {
      "text/plain": [
       "[-42436.94433779025, -5972555730.670688, 3.9382273979528115]"
      ]
     },
     "execution_count": 20,
     "metadata": {},
     "output_type": "execute_result"
    }
   ],
   "source": [
    "# Run with max_nfe = 1000\n",
    "[-42447.8419702481, -1073811779.4398675, 3.8974160507690834]\n",
    "[-42499.19591172424, -3192676423.8131924, 4.024753868426908]\n",
    "[-42446.83412872091, -3747380125.173663, 3.895677948479156]\n",
    "[-42497.653619469915, -4403650374.082282, 4.024753868426908]\n",
    "[-42498.22702724898, -5161124665.806349, 4.141483304702572]\n",
    "[-42433.893083215604, -5357926774.160049, 3.895677948479156]\n",
    "[-42398.252194404224, -5745857506.41196, 3.895677948479156]\n",
    "[-42496.66949053721, -5775726904.67714, 4.016728637372896]\n",
    "[-42496.31235098403, -5847309366.365279, 4.141483304702572]\n",
    "[-42490.275448488224, -5889055320.556058, 3.997335285204946]\n",
    "[-42489.361300084296, -5918895496.9880085, 4.141483304702572]\n",
    "[-42480.35475106758, -5936794308.552284, 3.9500332286052977]\n",
    "[-42468.67186356269, -5954660611.360741, 3.973075889922211]\n",
    "[-42354.399468278614, -5966576380.05946, 3.895677948479156]\n",
    "[-42436.94433779025, -5972555730.670688, 3.9382273979528115]"
   ]
  },
  {
   "cell_type": "code",
   "execution_count": null,
   "metadata": {},
   "outputs": [],
   "source": [
    "# run with 50000 nfe\n",
    "[-42501.01206080477, -143179071051.17148, 4.024753868426908]\n",
    "[-42457.8877931768, -218017430847.1841, 3.8974160507690834]\n",
    "[-42499.81004429868, -249992198946.26392, 4.026755508223575]\n",
    "[-42499.770223981104, -273808337962.01166, 4.026755508223575]\n",
    "[-42457.55974387654, -276958094776.6829, 3.8974160507690834]\n",
    "[-42499.26062237246, -279565289376.2022, 4.026755508223575]\n",
    "[-42496.55043632131, -280400408936.0725, 3.99823258179653]\n",
    "[-42498.71318228535, -284289939725.8695, 4.026755508223575]\n",
    "[-42496.83522998518, -293538224583.0767, 4.061411713639997]\n",
    "[-42491.68108554619, -296986506220.11945, 3.99823258179653]\n",
    "[-42456.70122118388, -297308981454.69684, 3.8993401985058362]\n",
    "[-42448.80400244774, -297464102706.2211, 3.895677948479156]\n",
    "[-42426.49556267954, -297553549294.61285, 3.895677948479156]\n",
    "[-42490.275448488224, -297631226997.1131, 3.997335285204946]\n",
    "[-42490.19207724266, -297684949250.1238, 3.997335285204946]\n",
    "[-42423.76551075439, -297708854480.19666, 3.895677948479156]\n",
    "[-42484.78976862292, -298102478730.40686, 3.964194978877905]\n",
    "[-42412.64423479503, -298180130521.23987, 3.895677948479156]\n",
    "[-42498.30172665828, -298221856219.5493, 4.141483304702572]\n",
    "[-42483.965872003166, -298239760022.9669, 3.964194978877905]\n",
    "[-42400.60856235141, -298245738087.2359, 3.895677948479156]\n",
    "[-42475.36845685582, -298251718827.7606, 4.024192462855429]\n",
    "[-42373.40539600082, -298257694739.84485, 3.9109170468903285]\n",
    "[-42329.81598965562, -298275499888.7347, 3.9382273979528115]\n",
    "[-42229.06232841884, -298281467531.7926, 3.9373638436905565]\n",
    "[-41771.39238148815, -298287412043.76434, 3.9360835295177523]\n",
    "[-42385.00641589413, -298293388398.3856, 4.026755508223575]"
   ]
  },
  {
   "cell_type": "code",
   "execution_count": null,
   "metadata": {},
   "outputs": [],
   "source": [
    "# Nordhaus policy results for reference\n",
    "-42456.671297561035 -5976340.535159354 3.9574968783133793"
   ]
  },
  {
   "cell_type": "markdown",
   "metadata": {},
   "source": [
    "Other test with platypus-opt library"
   ]
  },
  {
   "cell_type": "markdown",
   "metadata": {},
   "source": [
    "For example, optimizing a simple biobjective problem with a single real-valued decision variables is accomplished in Platypus with:"
   ]
  },
  {
   "cell_type": "code",
   "execution_count": 5,
   "metadata": {},
   "outputs": [
    {
     "name": "stdout",
     "output_type": "stream",
     "text": [
      "[4.003096973324801, 5.992207870007803e-07]\n",
      "[2.819606131554613e-08, 4.0006716955103245]\n",
      "[3.2275238065533043, 0.04139961441378433]\n",
      "[3.0894511458544827, 0.058717305516639076]\n",
      "[2.7909520073273346, 0.10849496539752104]\n",
      "[0.11220331439736629, 2.772332786936649]\n",
      "[0.08932688761365212, 2.893822725421636]\n",
      "[0.15991283816002091, 2.5603487067291066]\n",
      "[3.470238627649451, 0.018808023906890754]\n",
      "[2.8993014916984077, 0.08836735112895691]\n",
      "[3.610896016652512, 0.009952899746545311]\n",
      "[0.4132860517252887, 1.8417929392311838]\n",
      "[0.27694771100950727, 2.1719148428214314]\n",
      "[2.684113858451459, 0.1308076901709518]\n",
      "[1.0983515496419956, 0.9062608070325361]\n",
      "[0.24491149258254116, 2.2653701615362154]\n",
      "[0.9957033392356137, 1.0043059112951411]\n",
      "[1.7225586386423846, 0.47270738186585065]\n",
      "[0.0246611219815908, 3.3965067208146063]\n",
      "[1.1550280056659856, 0.8561388362809722]\n",
      "[0.1336130515502531, 2.6714882877889488]\n",
      "[1.396948522571064, 0.6692454480181554]\n",
      "[1.849478461388129, 0.4096571975771512]\n",
      "[2.0255692790732818, 0.3326694498849525]\n",
      "[0.3744273450221678, 1.9268086001285345]\n",
      "[0.07653950116730872, 2.9699085696111105]\n",
      "[0.823887211607133, 1.1931578929007485]\n",
      "[0.8813685431780229, 1.1261193249704793]\n",
      "[1.5414767069801811, 0.5752278900477373]\n",
      "[0.34266235312231147, 2.001167606180311]\n",
      "[3.7842669419308805, 0.0029899856149001]\n",
      "[0.5713434437534517, 1.5478528947265116]\n",
      "[1.0527009972281876, 0.9486522699771329]\n",
      "[0.03001753047137488, 3.336994812559474]\n",
      "[0.19949074379414286, 2.4129152763967294]\n",
      "[2.093797405553925, 0.30581343107172193]\n",
      "[0.01141271950352684, 3.584091397713437]\n",
      "[0.0001247385577576608, 3.9554501716978256]\n",
      "[0.1777358110348147, 2.4913868031016895]\n",
      "[3.3428782760616844, 0.02946235619312067]\n",
      "[1.9038583739903743, 0.3846433950421916]\n",
      "[2.365284009686677, 0.21349206302700202]\n",
      "[2.997087343290125, 0.07224817601396363]\n",
      "[0.03632619517311402, 3.2739489114284943]\n",
      "[0.017689865796554686, 3.4856768464587993]\n",
      "[0.00870083593461121, 3.6355877499221]\n",
      "[0.130309498555603, 2.6863732198751173]\n",
      "[1.6709864869165225, 0.5003207859971177]\n",
      "[3.9131431336090414, 0.00047669695542353334]\n",
      "[0.051829206054964425, 3.1411880600048696]\n",
      "[2.4218991033779695, 0.1969183279821521]\n",
      "[0.2972375339203983, 2.1164577323983895]\n",
      "[0.3246474701122878, 2.045533712136042]\n",
      "[2.4829117252220434, 0.18000861605459448]\n",
      "[3.67946590507764, 0.006692320431587125]\n",
      "[1.9847506369764623, 0.34950350915470224]\n",
      "[1.778461943966747, 0.4441024600673021]\n",
      "[1.459013996581507, 0.6274279272556058]\n",
      "[2.978384059892872, 0.07518589105214604]\n",
      "[0.005812471577822106, 3.7008542035391385]\n",
      "[0.5304917200712356, 1.6170972186108226]\n",
      "[2.5510418058043904, 0.16224936177631358]\n",
      "[0.3666970018061226, 1.9444765269323012]\n",
      "[1.7994319114401622, 0.4337156886938832]\n",
      "[1.3500355658138024, 0.702394330410532]\n",
      "[0.015932421915516044, 3.511037630252682]\n",
      "[1.502399214485501, 0.5995033934662519]\n",
      "[0.6640181966291867, 1.4045257290712407]\n",
      "[0.18695622724886035, 2.45741882205007]\n",
      "[0.7317571256281259, 1.310044979633081]\n",
      "[0.0684789056033035, 3.02173992684458]\n",
      "[0.6899972895643417, 1.3673542703656998]\n",
      "[0.7051081914646712, 1.346279368283183]\n",
      "[0.3090325791418574, 2.08540462773683]\n",
      "[0.0042940076524350425, 3.7421792952859585]\n",
      "[3.864264159638388, 0.0011714758266164712]\n",
      "[0.06091979761841688, 3.0736423483192494]\n",
      "[0.0010501146371196663, 3.871428225305438]\n",
      "[0.9692033956267261, 1.0312782655578956]\n",
      "[0.002699258614858321, 3.7948816995931693]\n",
      "[3.9846780353605373, 1.4700831735965975e-05]\n",
      "[1.3067746120654087, 0.7342048976655791]\n",
      "[1.0662441165378076, 0.9358802264422966]\n",
      "[0.4750584522838209, 1.7180790841090907]\n",
      "[0.500480370554293, 1.6706948788838223]\n",
      "[1.181837681948513, 0.8333433550376214]\n",
      "[0.9219175584336864, 1.0812560353443395]\n",
      "[2.21574225361288, 0.2615944507945724]\n",
      "[0.43953080299151825, 1.7876460302564183]\n",
      "[3.403065351780052, 0.024105694180558676]\n",
      "[2.1543783472837013, 0.28325804903233426]\n",
      "[0.747724075655878, 1.2888824761468678]\n",
      "[2.1207832993827758, 0.2956195428756326]\n",
      "[2.182369481779344, 0.2732314982432086]\n",
      "[3.818020060420814, 0.002118259174010719]\n",
      "[1.5916454513708465, 0.5452281854351864]\n",
      "[1.3676109074078227, 0.6898150035097954]\n",
      "[0.2168818405034358, 2.3540588623181833]\n",
      "[2.457999721931191, 0.18679604553069826]\n",
      "[1.2301566663173331, 0.7936595502270578]\n"
     ]
    }
   ],
   "source": [
    "from platypus import NSGAII, Problem, Real\n",
    "\n",
    "def schaffer(x):\n",
    "    return [x[0]**2, (x[0]-2)**2]\n",
    "\n",
    "problem = Problem(1, 2)\n",
    "problem.types[:] = Real(-10, 10)\n",
    "problem.function = schaffer\n",
    "\n",
    "algorithm = NSGAII(problem)\n",
    "algorithm.run(10000)\n",
    "\n",
    "# print the results\n",
    "for solution in algorithm.result:\n",
    "    print(solution.objectives)"
   ]
  }
 ],
 "metadata": {
  "kernelspec": {
   "display_name": "Python 3",
   "language": "python",
   "name": "python3"
  },
  "language_info": {
   "codemirror_mode": {
    "name": "ipython",
    "version": 3
   },
   "file_extension": ".py",
   "mimetype": "text/x-python",
   "name": "python",
   "nbconvert_exporter": "python",
   "pygments_lexer": "ipython3",
   "version": "3.7.8"
  }
 },
 "nbformat": 4,
 "nbformat_minor": 4
}

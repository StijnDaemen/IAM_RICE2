{
 "cells": [
  {
   "cell_type": "code",
   "execution_count": 1,
   "metadata": {},
   "outputs": [],
   "source": [
    "import pandas as pd"
   ]
  },
  {
   "cell_type": "code",
   "execution_count": 2,
   "metadata": {},
   "outputs": [
    {
     "name": "stderr",
     "output_type": "stream",
     "text": [
      "[EMA.ema_workbench.em_framework.evaluators/INFO/MainProcess] performing 100 scenarios * 1 policies * 1 model(s) = 100 experiments\n",
      "[EMA.ema_workbench.em_framework.evaluators/INFO/MainProcess] performing experiments sequentially\n",
      "[EMA.ema_workbench.em_framework.callbacks/INFO/MainProcess] 10 cases completed\n",
      "[EMA.ema_workbench.em_framework.callbacks/INFO/MainProcess] 20 cases completed\n",
      "[EMA.ema_workbench.em_framework.callbacks/INFO/MainProcess] 30 cases completed\n",
      "[EMA.ema_workbench.em_framework.callbacks/INFO/MainProcess] 40 cases completed\n",
      "[EMA.ema_workbench.em_framework.callbacks/INFO/MainProcess] 50 cases completed\n",
      "[EMA.ema_workbench.em_framework.callbacks/INFO/MainProcess] 60 cases completed\n",
      "[EMA.ema_workbench.em_framework.callbacks/INFO/MainProcess] 70 cases completed\n",
      "[EMA.ema_workbench.em_framework.callbacks/INFO/MainProcess] 80 cases completed\n",
      "[EMA.ema_workbench.em_framework.callbacks/INFO/MainProcess] 90 cases completed\n",
      "[EMA.ema_workbench.em_framework.callbacks/INFO/MainProcess] 100 cases completed\n",
      "[EMA.ema_workbench.em_framework.evaluators/INFO/MainProcess] experiments finished\n"
     ]
    }
   ],
   "source": [
    "from ema_workbench import Model, RealParameter, ScalarOutcome, ema_logging, perform_experiments\n",
    "\n",
    "\n",
    "def some_model(x1=None, x2=None, x3=None):\n",
    "    return {\"y\": x1 * x2 + x3}\n",
    "\n",
    "\n",
    "if __name__ == \"__main__\":\n",
    "    ema_logging.LOG_FORMAT = \"[%(name)s/%(levelname)s/%(processName)s] %(message)s\"\n",
    "    ema_logging.log_to_stderr(ema_logging.INFO)\n",
    "\n",
    "    model = Model(\"simpleModel\", function=some_model)  # instantiate the model\n",
    "\n",
    "    # specify uncertainties\n",
    "    model.uncertainties = [\n",
    "        RealParameter(\"x1\", 0.1, 10),\n",
    "        RealParameter(\"x2\", -0.01, 0.01),\n",
    "        RealParameter(\"x3\", -0.01, 0.01),\n",
    "    ]\n",
    "    # specify outcomes\n",
    "    model.outcomes = [ScalarOutcome(\"y\")]\n",
    "\n",
    "    results = perform_experiments(model, 100)"
   ]
  },
  {
   "cell_type": "code",
   "execution_count": 3,
   "metadata": {},
   "outputs": [
    {
     "ename": "TypeError",
     "evalue": "lines() missing 1 required positional argument: 'outcomes'",
     "output_type": "error",
     "traceback": [
      "\u001b[1;31m---------------------------------------------------------------------------\u001b[0m",
      "\u001b[1;31mTypeError\u001b[0m                                 Traceback (most recent call last)",
      "\u001b[1;32m<ipython-input-3-b75bcc157386>\u001b[0m in \u001b[0;36m<module>\u001b[1;34m\u001b[0m\n\u001b[0;32m      2\u001b[0m \u001b[1;32mfrom\u001b[0m \u001b[0mema_workbench\u001b[0m\u001b[1;33m.\u001b[0m\u001b[0manalysis\u001b[0m\u001b[1;33m.\u001b[0m\u001b[0mplotting\u001b[0m \u001b[1;32mimport\u001b[0m \u001b[0mlines\u001b[0m\u001b[1;33m\u001b[0m\u001b[1;33m\u001b[0m\u001b[0m\n\u001b[0;32m      3\u001b[0m \u001b[1;33m\u001b[0m\u001b[0m\n\u001b[1;32m----> 4\u001b[1;33m \u001b[0mfigure\u001b[0m \u001b[1;33m=\u001b[0m \u001b[0mlines\u001b[0m\u001b[1;33m(\u001b[0m\u001b[0mresults\u001b[0m\u001b[1;33m,\u001b[0m \u001b[0mdensity\u001b[0m\u001b[1;33m=\u001b[0m\u001b[1;32mTrue\u001b[0m\u001b[1;33m)\u001b[0m \u001b[1;31m#show lines, and end state density\u001b[0m\u001b[1;33m\u001b[0m\u001b[1;33m\u001b[0m\u001b[0m\n\u001b[0m\u001b[0;32m      5\u001b[0m \u001b[0mplt\u001b[0m\u001b[1;33m.\u001b[0m\u001b[0mshow\u001b[0m\u001b[1;33m(\u001b[0m\u001b[1;33m)\u001b[0m \u001b[1;31m#show figure\u001b[0m\u001b[1;33m\u001b[0m\u001b[1;33m\u001b[0m\u001b[0m\n",
      "\u001b[1;31mTypeError\u001b[0m: lines() missing 1 required positional argument: 'outcomes'"
     ]
    }
   ],
   "source": [
    "import matplotlib.pyplot as plt\n",
    "from ema_workbench.analysis.plotting import lines\n",
    "\n",
    "figure = lines(results, density=True) #show lines, and end state density\n",
    "plt.show() #show figure"
   ]
  },
  {
   "cell_type": "code",
   "execution_count": null,
   "metadata": {},
   "outputs": [],
   "source": []
  }
 ],
 "metadata": {
  "kernelspec": {
   "display_name": "Python 3",
   "language": "python",
   "name": "python3"
  },
  "language_info": {
   "codemirror_mode": {
    "name": "ipython",
    "version": 3
   },
   "file_extension": ".py",
   "mimetype": "text/x-python",
   "name": "python",
   "nbconvert_exporter": "python",
   "pygments_lexer": "ipython3",
   "version": "3.7.8"
  }
 },
 "nbformat": 4,
 "nbformat_minor": 4
}
